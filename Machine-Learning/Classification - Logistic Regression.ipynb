{
 "cells": [
  {
   "cell_type": "code",
   "execution_count": 1,
   "metadata": {},
   "outputs": [],
   "source": [
    "import numpy as np"
   ]
  },
  {
   "cell_type": "code",
   "execution_count": 2,
   "metadata": {},
   "outputs": [
    {
     "name": "stdout",
     "output_type": "stream",
     "text": [
      "Sigmoid Function Output :: [0.2689414213699951, 0.8807970779778823, 0.9525741268224334, 0.9933071490757153, 1.0]\n"
     ]
    }
   ],
   "source": [
    "def sigmoid(inputs):\n",
    "    sigmoid_scores = [1/ float (1 + np.exp(-x)) for x in inputs]\n",
    "    return sigmoid_scores\n",
    "\n",
    "sigmoid_inputs = [-1, 2, 3, 5, 6999]\n",
    "print('Sigmoid Function Output :: {}'.format(sigmoid(sigmoid_inputs)))"
   ]
  },
  {
   "cell_type": "code",
   "execution_count": 4,
   "metadata": {},
   "outputs": [],
   "source": [
    "from sklearn.linear_model import LogisticRegression\n",
    "\n",
    "lr = LogisticRegression()"
   ]
  },
  {
   "cell_type": "code",
   "execution_count": 5,
   "metadata": {},
   "outputs": [],
   "source": [
    "from sklearn.datasets import load_breast_cancer\n",
    "from sklearn.model_selection import train_test_split"
   ]
  },
  {
   "cell_type": "code",
   "execution_count": 6,
   "metadata": {},
   "outputs": [],
   "source": [
    "cancer_data = load_breast_cancer()"
   ]
  },
  {
   "cell_type": "code",
   "execution_count": 9,
   "metadata": {},
   "outputs": [
    {
     "data": {
      "text/plain": [
       "(569, 30)"
      ]
     },
     "execution_count": 9,
     "metadata": {},
     "output_type": "execute_result"
    }
   ],
   "source": [
    "cancer_data.data.shape"
   ]
  },
  {
   "cell_type": "code",
   "execution_count": 13,
   "metadata": {},
   "outputs": [],
   "source": [
    "trainX, testX, trainY, testY = train_test_split(cancer_data.data, cancer_data.target)"
   ]
  },
  {
   "cell_type": "code",
   "execution_count": 14,
   "metadata": {},
   "outputs": [
    {
     "name": "stderr",
     "output_type": "stream",
     "text": [
      "C:\\Games\\envs\\pro\\lib\\site-packages\\sklearn\\linear_model\\logistic.py:432: FutureWarning: Default solver will be changed to 'lbfgs' in 0.22. Specify a solver to silence this warning.\n",
      "  FutureWarning)\n"
     ]
    },
    {
     "data": {
      "text/plain": [
       "LogisticRegression(C=1.0, class_weight=None, dual=False, fit_intercept=True,\n",
       "                   intercept_scaling=1, l1_ratio=None, max_iter=100,\n",
       "                   multi_class='warn', n_jobs=None, penalty='l2',\n",
       "                   random_state=None, solver='warn', tol=0.0001, verbose=0,\n",
       "                   warm_start=False)"
      ]
     },
     "execution_count": 14,
     "metadata": {},
     "output_type": "execute_result"
    }
   ],
   "source": [
    "lr.fit(trainX, trainY)"
   ]
  },
  {
   "cell_type": "code",
   "execution_count": 15,
   "metadata": {},
   "outputs": [
    {
     "data": {
      "text/plain": [
       "0.965034965034965"
      ]
     },
     "execution_count": 15,
     "metadata": {},
     "output_type": "execute_result"
    }
   ],
   "source": [
    "lr.score(testX, testY)"
   ]
  },
  {
   "cell_type": "code",
   "execution_count": 20,
   "metadata": {},
   "outputs": [
    {
     "data": {
      "text/plain": [
       "array([[3.31532629e-03, 9.96684674e-01],\n",
       "       [9.91962797e-01, 8.03720298e-03],\n",
       "       [9.99471593e-01, 5.28407106e-04],\n",
       "       [2.27003899e-02, 9.77299610e-01],\n",
       "       [4.54287403e-03, 9.95457126e-01],\n",
       "       [3.15460529e-01, 6.84539471e-01]])"
      ]
     },
     "execution_count": 20,
     "metadata": {},
     "output_type": "execute_result"
    }
   ],
   "source": [
    "lr.predict_proba(testX[:6])"
   ]
  },
  {
   "cell_type": "code",
   "execution_count": 21,
   "metadata": {},
   "outputs": [
    {
     "data": {
      "text/plain": [
       "array([1, 0, 0, 1, 1])"
      ]
     },
     "execution_count": 21,
     "metadata": {},
     "output_type": "execute_result"
    }
   ],
   "source": [
    "lr.predict(testX[:5])"
   ]
  },
  {
   "cell_type": "code",
   "execution_count": 22,
   "metadata": {},
   "outputs": [
    {
     "data": {
      "text/plain": [
       "array([[1.106e+01, 1.496e+01, 7.149e+01, 3.739e+02, 1.033e-01, 9.097e-02,\n",
       "        5.397e-02, 3.341e-02, 1.776e-01, 6.907e-02, 1.601e-01, 8.225e-01,\n",
       "        1.355e+00, 1.080e+01, 7.416e-03, 1.877e-02, 2.758e-02, 1.010e-02,\n",
       "        2.348e-02, 2.917e-03, 1.192e+01, 1.990e+01, 7.976e+01, 4.400e+02,\n",
       "        1.418e-01, 2.210e-01, 2.299e-01, 1.075e-01, 3.301e-01, 9.080e-02],\n",
       "       [1.757e+01, 1.505e+01, 1.150e+02, 9.551e+02, 9.847e-02, 1.157e-01,\n",
       "        9.875e-02, 7.953e-02, 1.739e-01, 6.149e-02, 6.003e-01, 8.225e-01,\n",
       "        4.655e+00, 6.110e+01, 5.627e-03, 3.033e-02, 3.407e-02, 1.354e-02,\n",
       "        1.925e-02, 3.742e-03, 2.001e+01, 1.952e+01, 1.349e+02, 1.227e+03,\n",
       "        1.255e-01, 2.812e-01, 2.489e-01, 1.456e-01, 2.756e-01, 7.919e-02],\n",
       "       [1.425e+01, 2.215e+01, 9.642e+01, 6.457e+02, 1.049e-01, 2.008e-01,\n",
       "        2.135e-01, 8.653e-02, 1.949e-01, 7.292e-02, 7.036e-01, 1.268e+00,\n",
       "        5.373e+00, 6.078e+01, 9.407e-03, 7.056e-02, 6.899e-02, 1.848e-02,\n",
       "        1.700e-02, 6.113e-03, 1.767e+01, 2.951e+01, 1.191e+02, 9.595e+02,\n",
       "        1.640e-01, 6.247e-01, 6.922e-01, 1.785e-01, 2.844e-01, 1.132e-01],\n",
       "       [1.187e+01, 2.154e+01, 7.683e+01, 4.320e+02, 6.613e-02, 1.064e-01,\n",
       "        8.777e-02, 2.386e-02, 1.349e-01, 6.612e-02, 2.560e-01, 1.554e+00,\n",
       "        1.955e+00, 2.024e+01, 6.854e-03, 6.063e-02, 6.663e-02, 1.553e-02,\n",
       "        2.354e-02, 8.925e-03, 1.279e+01, 2.818e+01, 8.351e+01, 5.072e+02,\n",
       "        9.457e-02, 3.399e-01, 3.218e-01, 8.750e-02, 2.305e-01, 9.952e-02],\n",
       "       [1.171e+01, 1.545e+01, 7.503e+01, 4.203e+02, 1.150e-01, 7.281e-02,\n",
       "        4.006e-02, 3.250e-02, 2.009e-01, 6.506e-02, 3.446e-01, 7.395e-01,\n",
       "        2.355e+00, 2.453e+01, 9.536e-03, 1.097e-02, 1.651e-02, 1.121e-02,\n",
       "        1.953e-02, 3.100e-03, 1.306e+01, 1.816e+01, 8.416e+01, 5.164e+02,\n",
       "        1.460e-01, 1.115e-01, 1.087e-01, 7.864e-02, 2.765e-01, 7.806e-02]])"
      ]
     },
     "execution_count": 22,
     "metadata": {},
     "output_type": "execute_result"
    }
   ],
   "source": [
    "testX[:5]"
   ]
  },
  {
   "cell_type": "code",
   "execution_count": null,
   "metadata": {},
   "outputs": [],
   "source": []
  }
 ],
 "metadata": {
  "kernelspec": {
   "display_name": "Python 3",
   "language": "python",
   "name": "python3"
  },
  "language_info": {
   "codemirror_mode": {
    "name": "ipython",
    "version": 3
   },
   "file_extension": ".py",
   "mimetype": "text/x-python",
   "name": "python",
   "nbconvert_exporter": "python",
   "pygments_lexer": "ipython3",
   "version": "3.7.4"
  }
 },
 "nbformat": 4,
 "nbformat_minor": 2
}
